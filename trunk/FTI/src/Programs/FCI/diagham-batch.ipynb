{
 "cells": [
  {
   "cell_type": "code",
   "execution_count": 6,
   "metadata": {
    "pycharm": {
     "name": "#%%\n"
    }
   },
   "outputs": [],
   "source": [
    "import numpy as np\n",
    "import pandas as pd\n",
    "import sys\n",
    "import os\n",
    "import itertools as it\n",
    "import time\n",
    "import subprocess"
   ]
  },
  {
   "cell_type": "code",
   "execution_count": 2,
   "metadata": {
    "pycharm": {
     "name": "#%%\n"
    }
   },
   "outputs": [],
   "source": [
    "# Unit cell size (X)*(Y) is (2*UC_m)*(3*UC_m)\n",
    "param_dict = {'UC_m':[1,2],\n",
    "              'num_UC_x':[6],\n",
    "              't2':[0,-0.25]}\n",
    "names = sorted(param_dict)\n",
    "param_list = list(it.product(*(param_dict[name] for name in names)))"
   ]
  },
  {
   "cell_type": "code",
   "execution_count": 10,
   "metadata": {
    "pycharm": {
     "name": "#%%\n"
    }
   },
   "outputs": [
    {
     "name": "stdout",
     "output_type": "stream",
     "text": [
      "[(1, 6, 0), (1, 6, -0.25), (2, 6, 0), (2, 6, -0.25)]\n",
      "Running ./FCIHofstadterModel --flat-band --lanczos-precision 10e-10 -n 2 -m 4000 --use-lapack -p 8 -x 6 -y 4 -X 2 -Y 3 --t2 0\n",
      "Run complete. Time 0.07291483879089355\n",
      "Running ./FCIHofstadterModel --flat-band --lanczos-precision 10e-10 -n 2 -m 4000 --use-lapack -p 8 -x 6 -y 4 -X 2 -Y 3 --t2 -0.25\n",
      "Run complete. Time 0.05964803695678711\n",
      "Running ./FCIHofstadterModel --flat-band --lanczos-precision 10e-10 -n 2 -m 4000 --use-lapack -p 8 -x 6 -y 4 -X 4 -Y 6 --t2 0\n",
      "Run complete. Time 0.08893203735351562\n",
      "Running ./FCIHofstadterModel --flat-band --lanczos-precision 10e-10 -n 2 -m 4000 --use-lapack -p 8 -x 6 -y 4 -X 4 -Y 6 --t2 -0.25\n",
      "Run complete. Time 0.07531309127807617\n"
     ]
    }
   ],
   "source": [
    "cmd_string = (\"./FCIHofstadterModel --flat-band \"\n",
    "              \"--lanczos-precision 10e-10 \"\n",
    "              \"-n 2 -m 4000 --use-lapack -p 8\")\n",
    "print(param_list)\n",
    "with open('diagham-batch-log.txt', 'w') as logfile:\n",
    "    logfile.write(str(time.time()))\n",
    "    for params in param_list:\n",
    "        tmp_str = cmd_string + \" -x \" + str(params[1]) +\\\n",
    "                     \" -y \" + str(int(24/params[1])) +\\\n",
    "                     \" -X \" + str(int(2*params[0])) + \\\n",
    "                     \" -Y \" + str(int(3*params[0])) +\\\n",
    "                     \" --t2 \" + str(params[2])\n",
    "        print(\"Running \" + str(tmp_str))\n",
    "        t1 = time.time()\n",
    "        process = subprocess.Popen(tmp_str,stdout=logfile, stderr=logfile,shell=True)\n",
    "        process.wait()\n",
    "        t2 = time.time()\n",
    "        print(\"Run complete. Time \" + str(t2-t1))\n"
   ]
  },
  {
   "cell_type": "code",
   "execution_count": null,
   "metadata": {
    "pycharm": {
     "name": "#%%\n"
    }
   },
   "outputs": [],
   "source": []
  },
  {
   "cell_type": "code",
   "execution_count": null,
   "metadata": {
    "pycharm": {
     "name": "#%%\n"
    }
   },
   "outputs": [],
   "source": []
  }
 ],
 "metadata": {
  "kernelspec": {
   "display_name": "Python 3 (ipykernel)",
   "language": "python",
   "name": "python3"
  },
  "language_info": {
   "codemirror_mode": {
    "name": "ipython",
    "version": 3
   },
   "file_extension": ".py",
   "mimetype": "text/x-python",
   "name": "python",
   "nbconvert_exporter": "python",
   "pygments_lexer": "ipython3",
   "version": "3.7.6"
  }
 },
 "nbformat": 4,
 "nbformat_minor": 2
}
