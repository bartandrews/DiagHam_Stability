{
 "cells": [
  {
   "cell_type": "code",
   "execution_count": 1,
   "metadata": {},
   "outputs": [],
   "source": [
    "import numpy as np\n",
    "import scipy.linalg\n",
    "import scipy.special\n",
    "import math\n",
    "import sys\n",
    "import matplotlib.pyplot as plt\n",
    "import json"
   ]
  },
  {
   "cell_type": "markdown",
   "metadata": {},
   "source": [
    "# Quartic EM Response Part 2: Calculate coefficients c_p\n",
    "\n",
    "In this second notebook, we import the eigenvalues and eiegenvectors computed previously, and use them to calculate the current per orbital\n",
    "\n",
    "### Coefficients"
   ]
  },
  {
   "cell_type": "code",
   "execution_count": 2,
   "metadata": {},
   "outputs": [],
   "source": [
    "# These coefficients are defined in the tex document 'quartic EM Response' ('neat' version is best)\n",
    "\n",
    "# n is in the definition of H^{2n}\n",
    "# p is the prefactor to the coefficient c_p\n",
    "\n",
    "# When dtilde is true (default), this uses David's definition of the Hamiltonians\n",
    "def dcoeff(n, b, c, dtilde=True):\n",
    "    if(dtilde):\n",
    "        return (scipy.special.factorial(n-1)/scipy.special.factorial(b)/scipy.special.factorial(c) \n",
    "                * scipy.special.factorial2(2*n-1)/scipy.special.factorial2(2*n-b-c))\n",
    "    else:\n",
    "        return (2*scipy.special.factorial(n)/scipy.special.factorial(b)/scipy.special.factorial(c) \n",
    "                * scipy.special.factorial2(2*n-1)/scipy.special.factorial2(2*n-b-c))\n",
    "    \n",
    "def fcoeff(p, b, c):\n",
    "    return (scipy.special.factorial(p)/scipy.special.factorial(b)/scipy.special.factorial(c)\n",
    "            /scipy.special.factorial2(p-b-c))\n",
    "\n",
    "def acoeff(t, b, c):\n",
    "    if(t>=c):\n",
    "        return np.sqrt(scipy.special.factorial(t)*scipy.special.factorial(t-c+b))/scipy.special.factorial(t-c)\n",
    "    else:\n",
    "        return 0\n",
    "    \n",
    "def bacterm(lam, b, c, t, coeff_matrix):\n",
    "    if(b!=0):\n",
    "        return b*acoeff(t,b-1,c)*np.conjugate(coeff_matrix[:,lam][t-c+b-1])\n",
    "    else:\n",
    "        return 0\n",
    "\n",
    "def cacterm(lam, b, c, t, coeff_matrix):\n",
    "    if(c!=0):\n",
    "        return c*acoeff(t,b,c-1)*np.conjugate(coeff_matrix[:,lam][t-c+1+b])\n",
    "    else:\n",
    "        return 0\n",
    "\n"
   ]
  },
  {
   "cell_type": "markdown",
   "metadata": {},
   "source": [
    "### Summand"
   ]
  },
  {
   "cell_type": "code",
   "execution_count": 3,
   "metadata": {},
   "outputs": [],
   "source": [
    "# This is the main expression to calculate and sum over all indices\n",
    "\n",
    "def summand(n, mu, lam, p, b, c, bet, gam, t, tau, bval, coeff_matrix, \n",
    "            energy_list, dtilde=True):\n",
    "    coeff_matrix = np.array(coeff_matrix)\n",
    "    energy_list = np.array(energy_list)\n",
    "    return (-(bval**n) * (np.sqrt(2*bval) ** (-p-1)) * coeff_matrix[:,mu][t] *\n",
    "            np.conjugate(coeff_matrix[:,lam][tau-gam+bet]) * coeff_matrix[:,mu][tau] *\n",
    "            dcoeff(n, b, c, dtilde) * fcoeff(p, bet, gam) * acoeff(tau, bet, gam) /\n",
    "            (energy_list[lam] - energy_list[mu]) * (bacterm(lam, b, c, t, coeff_matrix)\n",
    "                                                    + cacterm(lam, b, c, t, coeff_matrix)))\n",
    "            \n"
   ]
  },
  {
   "cell_type": "markdown",
   "metadata": {},
   "source": [
    "### Index Lists"
   ]
  },
  {
   "cell_type": "code",
   "execution_count": 4,
   "metadata": {},
   "outputs": [],
   "source": [
    "# These functions generate the lists of indices to be summed over\n",
    "\n",
    "def mulist(lam, mu_max):\n",
    "    list_out = np.array([j for j in range(mu_max+1)])\n",
    "    list_out = np.delete(list_out, lam)\n",
    "    return list_out\n",
    "\n",
    "def tlist(t_max):\n",
    "    return np.array([j for j in range(t_max+1)])\n",
    "\n",
    "def betgamlist(p):\n",
    "    list_out = []\n",
    "    for b in range(p+1):\n",
    "        for c in range(p+1-b):\n",
    "            if(((b+c)%2)==(p%2)):\n",
    "                list_out.append([b,c])\n",
    "    return list_out\n",
    "\n",
    "def bclist(n):\n",
    "    list_out = []\n",
    "    for b in range(2*n+1):\n",
    "        for c in range(2*n+1-b):\n",
    "            if(((b-c)%4)==0):\n",
    "                list_out.append([b,c])\n",
    "    return list_out\n",
    "                \n"
   ]
  },
  {
   "cell_type": "markdown",
   "metadata": {},
   "source": [
    "## Calculate Current Per Orbital\n",
    "### Import Data From File"
   ]
  },
  {
   "cell_type": "code",
   "execution_count": 5,
   "metadata": {},
   "outputs": [],
   "source": [
    "def read_evals_evecs(n, trunc_dim):\n",
    "    \n",
    "    filename_evals = \"n\"+str(n)+\"_truncdim\"+str(trunc_dim)+\"_evals\"\n",
    "    filename_evecs = \"n\"+str(n)+\"_truncdim\"+str(trunc_dim)+\"_evecs\"\n",
    "    \n",
    "    with open(filename_evals) as f:\n",
    "        q_evals = json.load(f)\n",
    "        \n",
    "    with open(filename_evecs) as f:\n",
    "        q_evecs = json.load(f)\n",
    "    \n",
    "    return q_evals, q_evecs"
   ]
  },
  {
   "cell_type": "markdown",
   "metadata": {},
   "source": [
    "### Calculate EM Response"
   ]
  },
  {
   "cell_type": "code",
   "execution_count": 6,
   "metadata": {},
   "outputs": [],
   "source": [
    "def cp_coefficient_lambda(n, p, lam, coeff_matrix, energy_list, bval=1, mu_max=15, t_max=25, tol=1e-12, dtilde=True):\n",
    "    \n",
    "    this_tlist = tlist(t_max)\n",
    "    this_betgamlist = betgamlist(p)\n",
    "    this_bclist = bclist(n)\n",
    "    this_mu_list = mulist(lam, mu_max)\n",
    "    \n",
    "    sum_total = 0\n",
    "        \n",
    "    for mu in this_mu_list:\n",
    "        for tau in this_tlist:\n",
    "            for t in this_tlist:\n",
    "                for [b,c] in this_bclist:\n",
    "                    for [bet, gam] in this_betgamlist:\n",
    "                        this_element = summand(n, mu, lam, p, b, c, bet, gam, t, tau, bval,\n",
    "                                                coeff_matrix, energy_list, dtilde=True)\n",
    "                        if np.abs(this_element) > tol:\n",
    "                            sum_total += this_element\n",
    "                            \n",
    "    return sum_total"
   ]
  },
  {
   "cell_type": "code",
   "execution_count": 7,
   "metadata": {},
   "outputs": [],
   "source": [
    "def cp_coefficient_lambda_loud(n, p, lam, coeff_matrix, energy_list, bval=1, mu_max=15, t_max=25, tol=1e-12, dtilde=True):\n",
    "    \n",
    "    this_tlist = tlist(t_max)\n",
    "    this_betgamlist = betgamlist(p)\n",
    "    this_bclist = bclist(n)\n",
    "    this_mu_list = mulist(lam, mu_max)\n",
    "    \n",
    "    sum_total = 0\n",
    "        \n",
    "    for mu in this_mu_list:\n",
    "        for tau in this_tlist:\n",
    "            for t in this_tlist:\n",
    "                for [b,c] in this_bclist:\n",
    "                    for [bet, gam] in this_betgamlist:\n",
    "                        this_element = summand(n, mu, lam, p, b, c, bet, gam, t, tau, bval,\n",
    "                                                coeff_matrix, energy_list, dtilde=True)\n",
    "                        if np.abs(this_element) > tol:\n",
    "                            if np.abs(this_element) > 1e-2:\n",
    "                                print('mu =', mu, \", t =\",t, \", b =\", b, \", c =\", c, \", beta =\", bet, \", gamma =\", gam)\n",
    "                                print(this_element)\n",
    "                            sum_total += this_element\n",
    "                            \n",
    "    print('Total =', sum_total)\n",
    "    return sum_total"
   ]
  },
  {
   "cell_type": "code",
   "execution_count": 20,
   "metadata": {},
   "outputs": [],
   "source": [
    "def cp_coefficient_table(n, p_max, lam_max, trunc_dim=50, bval=1, mu_max=15, t_max=25, tol=1e-12, dtilde=True):\n",
    "    \n",
    "    table_out = []\n",
    "    elist, coeffmat = read_evals_evecs(n, trunc_dim)\n",
    "    \n",
    "    for p in range(1,p_max+1,2):\n",
    "        print('Starting p =', p)\n",
    "        row_out = []\n",
    "        for lam in range(lam_max+1):\n",
    "            row_out.append(\n",
    "                cp_coefficient_lambda(n, p, lam, coeffmat, elist, bval, mu_max, t_max, tol, dtilde)\n",
    "            )\n",
    "        table_out.append(row_out)\n",
    "    \n",
    "    filename_EM = (\"n\"+str(n)+\"_truncdim\"+str(trunc_dim)+\"_pmax\"+str(p_max)+\"_lam_max\"+str(lam_max)\n",
    "                   +\"_mu_max\"+str(mu_max)+\"_t_max\"+str(t_max)+\"_cp_table\")\n",
    "    \n",
    "    with open(filename_EM, \"w\") as f:\n",
    "        json.dump(table_out, f)\n",
    "        \n",
    "    print(\"Complete.\")\n",
    "    \n",
    "    #print(table_out)\n",
    "    "
   ]
  },
  {
   "cell_type": "markdown",
   "metadata": {},
   "source": [
    "### Check for LL again"
   ]
  },
  {
   "cell_type": "code",
   "execution_count": 19,
   "metadata": {},
   "outputs": [
    {
     "name": "stdout",
     "output_type": "stream",
     "text": [
      "Starting p = 1\n",
      "Starting p = 3\n",
      "Starting p = 5\n"
     ]
    }
   ],
   "source": [
    "cp_coefficient_table(1,5,3,trunc_dim=50,bval=1,mu_max=5,t_max=10)"
   ]
  },
  {
   "cell_type": "code",
   "execution_count": 21,
   "metadata": {},
   "outputs": [
    {
     "name": "stdout",
     "output_type": "stream",
     "text": [
      "Starting p = 1\n",
      "Starting p = 3\n",
      "Starting p = 5\n",
      "Complete.\n"
     ]
    }
   ],
   "source": [
    "cp_coefficient_table(2,5,3)"
   ]
  },
  {
   "cell_type": "code",
   "execution_count": 22,
   "metadata": {},
   "outputs": [
    {
     "name": "stdout",
     "output_type": "stream",
     "text": [
      "Starting p = 1\n",
      "Starting p = 3\n",
      "Starting p = 5\n",
      "Complete.\n"
     ]
    }
   ],
   "source": [
    "cp_coefficient_table(3,5,3)"
   ]
  },
  {
   "cell_type": "code",
   "execution_count": null,
   "metadata": {},
   "outputs": [
    {
     "name": "stdout",
     "output_type": "stream",
     "text": [
      "Starting p = 1\n"
     ]
    }
   ],
   "source": [
    "# slow check\n",
    "cp_coefficient_table(2, 5, 3, trunc_dim=100, bval=1, mu_max=40, t_max=60, tol=1e-12, dtilde=True)"
   ]
  },
  {
   "cell_type": "code",
   "execution_count": null,
   "metadata": {},
   "outputs": [],
   "source": []
  }
 ],
 "metadata": {
  "kernelspec": {
   "display_name": "Python 3",
   "language": "python",
   "name": "python3"
  },
  "language_info": {
   "codemirror_mode": {
    "name": "ipython",
    "version": 3
   },
   "file_extension": ".py",
   "mimetype": "text/x-python",
   "name": "python",
   "nbconvert_exporter": "python",
   "pygments_lexer": "ipython3",
   "version": "3.5.5"
  }
 },
 "nbformat": 4,
 "nbformat_minor": 2
}
