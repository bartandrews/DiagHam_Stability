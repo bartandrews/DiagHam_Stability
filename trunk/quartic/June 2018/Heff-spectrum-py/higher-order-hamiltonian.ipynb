{
 "cells": [
  {
   "cell_type": "code",
   "execution_count": 2,
   "metadata": {},
   "outputs": [],
   "source": [
    "import numpy as np\n",
    "import scipy.linalg\n",
    "import math\n",
    "import sys\n",
    "import matplotlib.pyplot as plt"
   ]
  },
  {
   "cell_type": "markdown",
   "metadata": {},
   "source": [
    "The following gives us the spectrum of effective continuum hamiltonians by truncating to finite-dimensional matrices. Set `trunc_dim` to the dimension of matrices we work with (50 seems to work fine)."
   ]
  },
  {
   "cell_type": "code",
   "execution_count": 3,
   "metadata": {},
   "outputs": [],
   "source": [
    "trunc_dim = 50"
   ]
  },
  {
   "cell_type": "code",
   "execution_count": 4,
   "metadata": {},
   "outputs": [],
   "source": [
    "#initialize hamiltonian with zeroes\n",
    "ham = np.matrix(np.zeros(shape=(trunc_dim,trunc_dim)),dtype=complex)\n",
    "# Landau hamiltonian\n",
    "h0 = np.diag(np.arange(trunc_dim)+0.5)\n",
    "# squared ladder operators\n",
    "f = np.vectorize(lambda x: math.sqrt(x*(x-1)))\n",
    "g = np.vectorize(lambda x: math.sqrt((x+1)*(x+2)))\n",
    "a2 = np.diag(f(np.arange(2,trunc_dim)),-2)\n",
    "at2 = np.diag(g(np.arange(trunc_dim-2)),2)\n",
    "# squared momenta\n",
    "px2 = h0 + 0.5*(a2+at2)\n",
    "py2 = h0 - 0.5*(a2+at2)"
   ]
  },
  {
   "cell_type": "markdown",
   "metadata": {},
   "source": [
    "Let's add some functions that give us $p_x^{2n}$ and $p_y^{2n}$ recursively and store previous results"
   ]
  },
  {
   "cell_type": "code",
   "execution_count": 5,
   "metadata": {},
   "outputs": [],
   "source": [
    "# returns matrix rep of px^(2n) using memoization to store results.\n",
    "px2n_table = [0,px2]\n",
    "def px2n(n):\n",
    "    if(len(px2n_table)>n):\n",
    "        return px2n_table[n]\n",
    "    else:\n",
    "        temp = px2n(n-1)@px2\n",
    "        px2n_table.append(temp)\n",
    "        return temp\n",
    "    \n",
    "# matrix rep of py^(2n)\n",
    "py2n_table = [0,py2]\n",
    "def py2n(n):\n",
    "    if(len(py2n_table)>n):\n",
    "        return py2n_table[n]\n",
    "    else:\n",
    "        temp = py2n(n-1)@py2\n",
    "        py2n_table.append(temp)\n",
    "        return temp"
   ]
  },
  {
   "cell_type": "markdown",
   "metadata": {},
   "source": [
    "Now we implement the hamiltonian $H_{\\text{eff}}^{(n)} = \\frac{1}{2n}\\left(\\pi_x^{2n} + \\pi_y^{2n}\\right)$"
   ]
  },
  {
   "cell_type": "code",
   "execution_count": 6,
   "metadata": {},
   "outputs": [],
   "source": [
    "def p_power_Heff(n):\n",
    "    return 0.5*(1/n)*(px2n(n) + py2n(n))"
   ]
  },
  {
   "cell_type": "markdown",
   "metadata": {},
   "source": [
    "Let's check against diagp4x4.py"
   ]
  },
  {
   "cell_type": "code",
   "execution_count": 7,
   "metadata": {},
   "outputs": [
    {
     "name": "stdout",
     "output_type": "stream",
     "text": [
      "[3.49182058e-01 1.78288219e+00 4.66009571e+00 8.96475589e+00\n",
      " 1.47065824e+01 2.18841318e+01 3.04972981e+01 4.05460351e+01\n",
      " 5.20303278e+01 6.49501693e+01 7.93055562e+01 9.50964865e+01\n",
      " 1.12322959e+02 1.30984974e+02 1.51082529e+02 1.72615626e+02\n",
      " 1.95584263e+02 2.19988441e+02 2.45828159e+02 2.73103418e+02\n",
      " 3.01814216e+02 3.31960554e+02 3.63542446e+02 3.96559870e+02\n",
      " 4.31012710e+02 4.66901170e+02 5.04226108e+02 5.42985942e+02\n",
      " 5.83174037e+02 6.24802890e+02 6.67909624e+02 7.12419881e+02\n",
      " 7.58105107e+02 8.05429450e+02 8.55290618e+02 9.05684997e+02\n",
      " 9.52340380e+02 1.00479785e+03 1.07374033e+03 1.13095643e+03\n",
      " 1.14820277e+03 1.20486307e+03 1.35631160e+03 1.38535970e+03\n",
      " 1.42296402e+03 1.45127368e+03 1.78810564e+03 1.79762276e+03\n",
      " 1.86860254e+03 1.87800575e+03]\n",
      "[ 9.99103827e-01  0.00000000e+00  0.00000000e+00  0.00000000e+00\n",
      " -4.22962774e-02  0.00000000e+00  0.00000000e+00  0.00000000e+00\n",
      "  1.60094539e-03  0.00000000e+00  0.00000000e+00  0.00000000e+00\n",
      " -6.33675895e-05  0.00000000e+00  0.00000000e+00  0.00000000e+00\n",
      "  2.56554365e-06  0.00000000e+00  0.00000000e+00  0.00000000e+00\n",
      " -1.05273651e-07  0.00000000e+00  0.00000000e+00  0.00000000e+00\n",
      "  4.35819195e-09  0.00000000e+00  0.00000000e+00  0.00000000e+00\n",
      " -1.81567820e-10  0.00000000e+00  0.00000000e+00  0.00000000e+00\n",
      "  7.61270649e-12  0.00000000e+00  0.00000000e+00  0.00000000e+00\n",
      " -3.31247611e-13  0.00000000e+00  0.00000000e+00  0.00000000e+00\n",
      "  1.85860071e-14  0.00000000e+00  0.00000000e+00  9.76331267e-16\n",
      "  0.00000000e+00  0.00000000e+00  0.00000000e+00  9.88314153e-18\n",
      "  0.00000000e+00 -4.20838483e-44]\n"
     ]
    }
   ],
   "source": [
    "q_evals,q_evecs =scipy.linalg.eigh(p_power_Heff(2))\n",
    "q_evals.sort()\n",
    "print(q_evals)\n",
    "print(q_evecs[0])"
   ]
  },
  {
   "cell_type": "markdown",
   "metadata": {},
   "source": [
    "eigenvalues from diagp4x4.py\n",
    "\n",
    "`0.3491820576155325\n",
    "1.7828821912914439\n",
    "4.660095710206393\n",
    "8.964755892189805\n",
    "14.706582361935856\n",
    "21.884131837593063\n",
    "30.497298074110535\n",
    "40.54603514095913\n",
    "52.03032780813033\n",
    "64.95016928691517\n",
    "79.30555615896394\n",
    "95.09648653277529`\n",
    "\n",
    "(nonzero, $n=4k$) ground state coefficients from diagp4x4.py\n",
    "\n",
    "`0.9991038273737545\n",
    "-0.04229627736471448\n",
    "0.0016009453949407135\n",
    "-6.336758953249004e-05\n",
    "2.5655436479782725e-06\n",
    "-1.0527365040419397e-07\n",
    "4.358188336490413e-09`"
   ]
  },
  {
   "cell_type": "markdown",
   "metadata": {},
   "source": [
    "Compute the trace inequality for the single-particle ground state"
   ]
  },
  {
   "cell_type": "code",
   "execution_count": 8,
   "metadata": {},
   "outputs": [],
   "source": [
    "def tr_inequality(n):\n",
    "    val,vec = scipy.linalg.eigh(p_power_Heff(n))\n",
    "    return 2*np.sum(np.multiply(np.square(vec[0]),np.arange(trunc_dim)))\n",
    "    "
   ]
  },
  {
   "cell_type": "code",
   "execution_count": 9,
   "metadata": {},
   "outputs": [
    {
     "data": {
      "text/plain": [
       "0.0"
      ]
     },
     "execution_count": 9,
     "metadata": {},
     "output_type": "execute_result"
    }
   ],
   "source": [
    "tr_inequality(1)"
   ]
  },
  {
   "cell_type": "code",
   "execution_count": 10,
   "metadata": {},
   "outputs": [
    {
     "data": {
      "text/plain": [
       "0.014352905631726493"
      ]
     },
     "execution_count": 10,
     "metadata": {},
     "output_type": "execute_result"
    }
   ],
   "source": [
    "tr_inequality(2)"
   ]
  },
  {
   "cell_type": "code",
   "execution_count": 11,
   "metadata": {
    "scrolled": true
   },
   "outputs": [
    {
     "data": {
      "text/plain": [
       "0.015358329782345855"
      ]
     },
     "execution_count": 11,
     "metadata": {},
     "output_type": "execute_result"
    }
   ],
   "source": [
    "tr_inequality(3)"
   ]
  },
  {
   "cell_type": "markdown",
   "metadata": {},
   "source": [
    "Plot $\\langle T\\rangle(n)$ for ground state of $H_{\\text{eff}}^{(n)}$"
   ]
  },
  {
   "cell_type": "code",
   "execution_count": 12,
   "metadata": {},
   "outputs": [],
   "source": [
    "tr_table=np.vectorize(tr_inequality)(np.arange(1,17))"
   ]
  },
  {
   "cell_type": "code",
   "execution_count": 13,
   "metadata": {},
   "outputs": [
    {
     "data": {
      "image/png": "[encoded data removed]",
      "text/plain": [
       "<Figure size 432x288 with 1 Axes>"
      ]
     },
     "metadata": {},
     "output_type": "display_data"
    }
   ],
   "source": [
    "plt.scatter(np.arange(1,17),tr_table)\n",
    "plt.show()"
   ]
  },
  {
   "cell_type": "markdown",
   "metadata": {},
   "source": [
    "Seems like it works up to n=15, then goes off the rails..."
   ]
  },
  {
   "cell_type": "code",
   "execution_count": 14,
   "metadata": {},
   "outputs": [
    {
     "data": {
      "text/plain": [
       "array([0.        , 0.01435291, 0.01535833, 0.01223203, 0.00933058,\n",
       "       0.00717697, 0.00563049, 0.00451052, 0.0036841 , 0.0030619 ,\n",
       "       0.00258455, 0.00221284, 0.00191874, 0.00169169, 0.00149484,\n",
       "       0.02779815])"
      ]
     },
     "execution_count": 14,
     "metadata": {},
     "output_type": "execute_result"
    }
   ],
   "source": [
    "tr_table"
   ]
  },
  {
   "cell_type": "code",
   "execution_count": null,
   "metadata": {},
   "outputs": [],
   "source": []
  }
 ],
 "metadata": {
  "kernelspec": {
   "display_name": "Python 3",
   "language": "python",
   "name": "python3"
  },
  "language_info": {
   "codemirror_mode": {
    "name": "ipython",
    "version": 3
   },
   "file_extension": ".py",
   "mimetype": "text/x-python",
   "name": "python",
   "nbconvert_exporter": "python",
   "pygments_lexer": "ipython3",
   "version": "3.5.5"
  }
 },
 "nbformat": 4,
 "nbformat_minor": 2
}
